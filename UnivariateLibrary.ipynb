{
 "cells": [
  {
   "cell_type": "code",
   "execution_count": 5,
   "metadata": {},
   "outputs": [],
   "source": [
    "class univariateClass():#step--5 making it into class so that we can make it libraray and import\n",
    "                       #it any where needed\n",
    "    def QuanQual(self,dataset):#step--4 converting it into function\n",
    "        Quan=[]#step--1 creating list to store our quantitative and \n",
    "        Qual=[]#qualitative columns\n",
    "        for columnName in dataset.columns:# step--2 writing optimised code ie working for all datasets\n",
    "            if(dataset[columnName].dtype==\"int64\" or dataset[columnName].dtype==\"float64\" ):\n",
    "                Quan.append(columnName)\n",
    "            else:\n",
    "                Qual.append(columnName)\n",
    "        return Quan,Qual# step--3 returning Quan,Qual\n",
    "#step--6 Make it into .py file for importing "
   ]
  },
  {
   "cell_type": "code",
   "execution_count": null,
   "metadata": {},
   "outputs": [],
   "source": []
  },
  {
   "cell_type": "code",
   "execution_count": null,
   "metadata": {},
   "outputs": [],
   "source": []
  },
  {
   "cell_type": "code",
   "execution_count": null,
   "metadata": {},
   "outputs": [],
   "source": []
  },
  {
   "cell_type": "code",
   "execution_count": null,
   "metadata": {},
   "outputs": [],
   "source": []
  },
  {
   "cell_type": "code",
   "execution_count": null,
   "metadata": {},
   "outputs": [],
   "source": []
  }
 ],
 "metadata": {
  "kernelspec": {
   "display_name": "Python 3",
   "language": "python",
   "name": "python3"
  },
  "language_info": {
   "codemirror_mode": {
    "name": "ipython",
    "version": 3
   },
   "file_extension": ".py",
   "mimetype": "text/x-python",
   "name": "python",
   "nbconvert_exporter": "python",
   "pygments_lexer": "ipython3",
   "version": "3.7.4"
  }
 },
 "nbformat": 4,
 "nbformat_minor": 2
}
